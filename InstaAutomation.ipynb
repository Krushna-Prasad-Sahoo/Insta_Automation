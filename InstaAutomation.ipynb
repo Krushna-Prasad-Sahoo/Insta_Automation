{
 "cells": [
  {
   "cell_type": "markdown",
   "metadata": {},
   "source": [
    "#     AUTOMATED INSTAGRAM PROFILE VISITING USING SELENIUM"
   ]
  },
  {
   "cell_type": "markdown",
   "metadata": {},
   "source": [
    "### Code by :-  Krushna Prasad Sahoo\n"
   ]
  },
  {
   "cell_type": "code",
   "execution_count": null,
   "metadata": {},
   "outputs": [],
   "source": [
    "# importing selenium web driver .\n",
    "from selenium import webdriver \n",
    "\n",
    "# imporing time for using sleep function because selenium works only when the all the elemets of the page is loaded .\n",
    "import time\n",
    "\n",
    "# importing getpass for taking user input of password as dot dot dot . \n",
    "import getpass\n",
    "\n",
    "# importing Chrome Drive Manager .\n",
    "from webdriver_manager.chrome import ChromeDriverManager\n",
    "\n",
    "# If you do not have ChromeDriver installed this will do for you\n",
    "# my_driver = webdriver.Chrome(ChromeDriverManager().install())\n",
    "\n",
    "# opening google chrome .\n",
    "my_driver = webdriver.Chrome(\"C:/Users/KIIT/.wdm/drivers/chromedriver/81.0.4064.138/win32/chromedriver.exe\") \n",
    "\n",
    "# User id or email id .\n",
    "username = input(\"Enter your Username : \") \n",
    "\n",
    "# Password .\n",
    "print(\"Enter your password : \")\n",
    "password= getpass.getpass()\n",
    "\n",
    "# Opening the login page of Instagram and wait for 4 sec .\n",
    "my_driver.get('https://www.instagram.com/accounts/login/?source=auth_switcher')\n",
    "time.sleep(4)\n",
    "\n",
    "# maximizing the browser\n",
    "my_driver.maximize_window()\n",
    "\n",
    "# Passing the user name in respective place and wait for 3 sec .\n",
    "a = my_driver.find_element_by_xpath(\"/html/body/div[2]/section/main/div/article/div[1]/div/form/div[2]/div/label/input\")\n",
    "a.send_keys(username)\n",
    "time.sleep(3)\n",
    "\n",
    "# Passing the password in the corresponding field and for 2 sec .\n",
    "b = my_driver.find_element_by_xpath(\"/html/body/div[2]/section/main/div/article/div[1]/div/form/div[3]/div/label/input\")\n",
    "b.send_keys(password)\n",
    "time.sleep(2)\n",
    "\n",
    "# Clicking on the login/submit button for logging in. After successful login wait for 5 sec .\n",
    "c = my_driver.find_element_by_xpath(\"/html/body/div[1]/section/main/div/article/div[1]/div/form/div[3]\").click()\n",
    "time.sleep(5)\n",
    "\n",
    "# Close the pop-up notification bar and wit for 5 sec & have a look at the Insta home page .\n",
    "d = my_driver.find_element_by_xpath(\"/html/body/div[4]/div/div[1]/div[3]/button[1]\").click()\n",
    "time.sleep(5)\n",
    "\n",
    "# Go to own profile for visiting there and wait for 30 sec .\n",
    "e = my_driver.find_element_by_xpath(\"/html/body/div[1]/section/main/section/div[1]/div[1]/div/div[2]/div[1]/a\").click()\n",
    "time.sleep(30)\n",
    "\n",
    "# prior to logout setting option\n",
    "f = my_driver.find_element_by_xpath(\"/html/body/div[1]/section/main/div/header/section/div[2]/div/button\").click()\n",
    "time.sleep(4)\n",
    "\n",
    "# log out\n",
    "g = my_driver.find_element_by_xpath(\"/html/body/div[4]/div/div/button[9]\").click()\n",
    "time.sleep(8)\n",
    "\n",
    "# Closing the browser\n",
    "my_driver.quit()\n",
    "\n"
   ]
  },
  {
   "cell_type": "code",
   "execution_count": null,
   "metadata": {},
   "outputs": [],
   "source": []
  }
 ],
 "metadata": {
  "kernelspec": {
   "display_name": "Python 3",
   "language": "python",
   "name": "python3"
  },
  "language_info": {
   "codemirror_mode": {
    "name": "ipython",
    "version": 3
   },
   "file_extension": ".py",
   "mimetype": "text/x-python",
   "name": "python",
   "nbconvert_exporter": "python",
   "pygments_lexer": "ipython3",
   "version": "3.7.7"
  }
 },
 "nbformat": 4,
 "nbformat_minor": 4
}
